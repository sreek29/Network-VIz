{
 "cells": [
  {
   "cell_type": "code",
   "execution_count": 1,
   "metadata": {},
   "outputs": [],
   "source": [
    "import json"
   ]
  },
  {
   "cell_type": "code",
   "execution_count": 2,
   "metadata": {},
   "outputs": [],
   "source": [
    "films = json.load(open('shared/sp18-is590dv/data/star_wars/films.json'))"
   ]
  },
  {
   "cell_type": "code",
   "execution_count": 3,
   "metadata": {},
   "outputs": [
    {
     "name": "stdout",
     "output_type": "stream",
     "text": [
      "dict_keys(['starships', 'edited', 'vehicles', 'planets', 'producer', 'title', 'created', 'episode_id', 'director', 'release_date', 'opening_crawl', 'characters', 'species'])\n",
      "dict_keys(['starships', 'edited', 'vehicles', 'planets', 'producer', 'title', 'created', 'episode_id', 'director', 'release_date', 'opening_crawl', 'characters', 'species'])\n",
      "dict_keys(['starships', 'edited', 'vehicles', 'planets', 'producer', 'title', 'created', 'episode_id', 'director', 'release_date', 'opening_crawl', 'characters', 'species'])\n",
      "dict_keys(['starships', 'edited', 'vehicles', 'planets', 'producer', 'title', 'created', 'episode_id', 'director', 'release_date', 'opening_crawl', 'characters', 'species'])\n",
      "dict_keys(['starships', 'edited', 'vehicles', 'planets', 'producer', 'title', 'created', 'episode_id', 'director', 'release_date', 'opening_crawl', 'characters', 'species'])\n",
      "dict_keys(['starships', 'edited', 'vehicles', 'planets', 'producer', 'title', 'created', 'episode_id', 'director', 'release_date', 'opening_crawl', 'characters', 'species'])\n"
     ]
    }
   ],
   "source": [
    "for film in films:\n",
    "    print(film['fields'].keys())"
   ]
  },
  {
   "cell_type": "code",
   "execution_count": 4,
   "metadata": {},
   "outputs": [
    {
     "name": "stdout",
     "output_type": "stream",
     "text": [
      "8\n",
      "9\n",
      "12\n",
      "5\n",
      "9\n",
      "12\n"
     ]
    }
   ],
   "source": [
    "for film in films:\n",
    "    print(len(film['fields']['starships']))"
   ]
  },
  {
   "cell_type": "code",
   "execution_count": 5,
   "metadata": {},
   "outputs": [],
   "source": [
    "starships_input = json.load(open('shared/sp18-is590dv/data/star_wars/starships.json'))\n",
    "starships = {}\n",
    "for starship in starships_input:\n",
    "    starships[starship['pk']] = starship['fields']"
   ]
  },
  {
   "cell_type": "code",
   "execution_count": 6,
   "metadata": {},
   "outputs": [
    {
     "name": "stdout",
     "output_type": "stream",
     "text": [
      "Film :  A New Hope\n",
      "2.0\n",
      "2.0\n",
      "1.0\n",
      "4.0\n",
      "0.5\n",
      "1.0\n",
      "1.0\n",
      "1.0\n",
      "Film :  The Empire Strikes Back\n",
      "2.0\n",
      "0.5\n",
      "1.0\n",
      "1.0\n",
      "2.0\n",
      "4.0\n",
      "3.0\n",
      "1.0\n",
      "2.0\n",
      "Film :  Return of the Jedi\n",
      "2.0\n",
      "2.0\n",
      "0.5\n",
      "1.0\n",
      "1.0\n",
      "2.0\n",
      "4.0\n",
      "1.0\n",
      "2.0\n",
      "1.0\n",
      "1.0\n",
      "2.0\n",
      "Film :  The Phantom Menace\n",
      "2.0\n",
      "2.0\n",
      "1.0\n",
      "1.8\n",
      "1.5\n",
      "Film :  Attack of the Clones\n",
      "3.0\n",
      "2.0\n",
      "1.0\n",
      "0.7\n",
      "unknown\n",
      "1.0\n",
      "0.9\n",
      "0.6\n",
      "1.5\n",
      "Film :  Revenge of the Sith\n",
      "2.0\n",
      "2.0\n",
      "1.0\n",
      "1.5\n",
      "1.0\n",
      "1.0\n",
      "0.5\n",
      "1.0\n",
      "1.0\n",
      "1.0\n",
      "6\n",
      "1.0\n"
     ]
    }
   ],
   "source": [
    "for film in films:\n",
    "    print('Film : ', film['fields']['title'])\n",
    "    for starship in film['fields']['starships']:\n",
    "        print(starships[starship]['hyperdrive_rating'])"
   ]
  },
  {
   "cell_type": "code",
   "execution_count": 7,
   "metadata": {},
   "outputs": [],
   "source": [
    "characters_input = json.load(open('shared/sp18-is590dv/data/star_wars/people.json'))\n",
    "characters = {}\n",
    "for character in characters_input:\n",
    "    characters[character['pk']] = character['fields']"
   ]
  },
  {
   "cell_type": "code",
   "execution_count": 8,
   "metadata": {},
   "outputs": [
    {
     "name": "stdout",
     "output_type": "stream",
     "text": [
      "Film :  A New Hope\n",
      "Luke Skywalker\n",
      "C-3PO\n",
      "R2-D2\n",
      "Darth Vader\n",
      "Leia Organa\n",
      "Owen Lars\n",
      "Beru Whitesun lars\n",
      "R5-D4\n",
      "Biggs Darklighter\n",
      "Obi-Wan Kenobi\n",
      "Wilhuff Tarkin\n",
      "Chewbacca\n",
      "Han Solo\n",
      "Greedo\n",
      "Jabba Desilijic Tiure\n",
      "Wedge Antilles\n",
      "Jek Tono Porkins\n",
      "Raymus Antilles\n",
      "Film :  The Empire Strikes Back\n",
      "Luke Skywalker\n",
      "C-3PO\n",
      "R2-D2\n",
      "Darth Vader\n",
      "Leia Organa\n",
      "Obi-Wan Kenobi\n",
      "Chewbacca\n",
      "Han Solo\n",
      "Wedge Antilles\n",
      "Yoda\n",
      "Palpatine\n",
      "Boba Fett\n",
      "IG-88\n",
      "Bossk\n",
      "Lando Calrissian\n",
      "Lobot\n",
      "Film :  Return of the Jedi\n",
      "Luke Skywalker\n",
      "C-3PO\n",
      "R2-D2\n",
      "Darth Vader\n",
      "Leia Organa\n",
      "Obi-Wan Kenobi\n",
      "Chewbacca\n",
      "Han Solo\n",
      "Jabba Desilijic Tiure\n",
      "Wedge Antilles\n",
      "Yoda\n",
      "Palpatine\n",
      "Boba Fett\n",
      "Lando Calrissian\n",
      "Ackbar\n",
      "Mon Mothma\n",
      "Arvel Crynyd\n",
      "Wicket Systri Warrick\n",
      "Nien Nunb\n",
      "Bib Fortuna\n",
      "Film :  The Phantom Menace\n",
      "C-3PO\n",
      "R2-D2\n",
      "Obi-Wan Kenobi\n",
      "Anakin Skywalker\n",
      "Jabba Desilijic Tiure\n",
      "Yoda\n",
      "Palpatine\n",
      "Qui-Gon Jinn\n",
      "Nute Gunray\n",
      "Finis Valorum\n",
      "Padmé Amidala\n",
      "Jar Jar Binks\n",
      "Roos Tarpals\n",
      "Rugor Nass\n",
      "Ric Olié\n",
      "Watto\n",
      "Sebulba\n",
      "Quarsh Panaka\n",
      "Shmi Skywalker\n",
      "Darth Maul\n",
      "Ayla Secura\n",
      "Ratts Tyerel\n",
      "Dud Bolt\n",
      "Gasgano\n",
      "Ben Quadinaros\n",
      "Mace Windu\n",
      "Ki-Adi-Mundi\n",
      "Kit Fisto\n",
      "Eeth Koth\n",
      "Adi Gallia\n",
      "Saesee Tiin\n",
      "Yarael Poof\n",
      "Plo Koon\n",
      "Mas Amedda\n",
      "Film :  Attack of the Clones\n",
      "C-3PO\n",
      "R2-D2\n",
      "Owen Lars\n",
      "Beru Whitesun lars\n",
      "Obi-Wan Kenobi\n",
      "Anakin Skywalker\n",
      "Yoda\n",
      "Palpatine\n",
      "Boba Fett\n",
      "Nute Gunray\n",
      "Padmé Amidala\n",
      "Jar Jar Binks\n",
      "Watto\n",
      "Shmi Skywalker\n",
      "Ayla Secura\n",
      "Mace Windu\n",
      "Ki-Adi-Mundi\n",
      "Kit Fisto\n",
      "Plo Koon\n",
      "Mas Amedda\n",
      "Gregar Typho\n",
      "Cordé\n",
      "Cliegg Lars\n",
      "Poggle the Lesser\n",
      "Luminara Unduli\n",
      "Barriss Offee\n",
      "Dormé\n",
      "Dooku\n",
      "Bail Prestor Organa\n",
      "Jango Fett\n",
      "Zam Wesell\n",
      "Dexter Jettster\n",
      "Lama Su\n",
      "Taun We\n",
      "Jocasta Nu\n",
      "R4-P17\n",
      "Wat Tambor\n",
      "San Hill\n",
      "Shaak Ti\n",
      "Sly Moore\n",
      "Film :  Revenge of the Sith\n",
      "Luke Skywalker\n",
      "C-3PO\n",
      "R2-D2\n",
      "Darth Vader\n",
      "Leia Organa\n",
      "Owen Lars\n",
      "Beru Whitesun lars\n",
      "Obi-Wan Kenobi\n",
      "Anakin Skywalker\n",
      "Wilhuff Tarkin\n",
      "Chewbacca\n",
      "Yoda\n",
      "Palpatine\n",
      "Nute Gunray\n",
      "Padmé Amidala\n",
      "Ayla Secura\n",
      "Mace Windu\n",
      "Ki-Adi-Mundi\n",
      "Kit Fisto\n",
      "Eeth Koth\n",
      "Adi Gallia\n",
      "Saesee Tiin\n",
      "Plo Koon\n",
      "Poggle the Lesser\n",
      "Luminara Unduli\n",
      "Dooku\n",
      "Bail Prestor Organa\n",
      "R4-P17\n",
      "Shaak Ti\n",
      "Grievous\n",
      "Tarfful\n",
      "Raymus Antilles\n",
      "Sly Moore\n",
      "Tion Medon\n"
     ]
    }
   ],
   "source": [
    "for film in films:\n",
    "    print('Film : ', film['fields']['title'])\n",
    "    for character in film['fields']['characters']:\n",
    "        print(characters[character]['name'])"
   ]
  },
  {
   "cell_type": "code",
   "execution_count": 9,
   "metadata": {},
   "outputs": [],
   "source": [
    "import bqplot"
   ]
  },
  {
   "cell_type": "code",
   "execution_count": 10,
   "metadata": {
    "scrolled": true
   },
   "outputs": [
    {
     "name": "stdout",
     "output_type": "stream",
     "text": [
      "[{'source': 0, 'target': 1, 'value': 10}, {'source': 0, 'target': 3, 'value': 100}]\n"
     ]
    },
    {
     "data": {
      "application/vnd.jupyter.widget-view+json": {
       "model_id": "985496e6ac1b4dc88b9d53cb105e99f3",
       "version_major": 2,
       "version_minor": 0
      },
      "text/plain": [
       "Figure(fig_margin={'top': 60, 'bottom': 60, 'left': 60, 'right': 60}, layout=Layout(min_width='125px'), marks=…"
      ]
     },
     "metadata": {},
     "output_type": "display_data"
    }
   ],
   "source": [
    "node_data =  [{'label':'Luke Skywalker','media':'Star Wars'},\n",
    "              {'label':'Jean-Luc Picard', 'media' : 'Star Trek'},\n",
    "              {'label':'Doctor Who', 'media' : 'Doctor Who'}, \n",
    "              {'label':'Pikachu', 'media':'detective'}]\n",
    "link_data = [{'source' : 0, 'target':1, 'value':10}, {'source' : 0, 'target':3, 'value':100 } ]\n",
    "print(link_data)\n",
    "color_data = [1,2,3,4]\n",
    "\n",
    "tooltip = bqplot.Tooltip(fields = ['label','media'])\n",
    "\n",
    "graph = bqplot.Graph(node_data = node_data, link_data = link_data, tooltip = tooltip)\n",
    "fig = bqplot.Figure(marks = [graph])\n",
    "display(fig)"
   ]
  },
  {
   "cell_type": "code",
   "execution_count": 11,
   "metadata": {},
   "outputs": [],
   "source": [
    "chars  = ['Boba Fett', 'Yoda', 'Jabba Desilijic Ture', 'Darth Vader','Obi-Wan Kenobi','Beru Whitesun lars','Mon Mothma'] "
   ]
  },
  {
   "cell_type": "code",
   "execution_count": 12,
   "metadata": {
    "scrolled": true
   },
   "outputs": [],
   "source": [
    "node_data = []\n",
    "for film in films:\n",
    "    film_chars = film[\"fields\"][\"characters\"]\n",
    "    name = film[\"fields\"][\"title\"]\n",
    "    for character in film_chars:\n",
    "        if characters[character][\"name\"] in chars: \n",
    "            character = characters[character][\"name\"]\n",
    "            node_data.append({'media': name,'label' :character})\n",
    "\n",
    "link_data = []\n",
    "length = 0\n",
    "for i in range(0,len(node_data)):\n",
    "    for c,value in enumerate(node_data):\n",
    "        if node_data[i]['media']== value['media'] and i != c:\n",
    "            link_data.append({'source':i, 'target' :c})\n",
    "        else:\n",
    "            continue\n",
    "    "
   ]
  },
  {
   "cell_type": "code",
   "execution_count": 13,
   "metadata": {},
   "outputs": [
    {
     "data": {
      "application/vnd.jupyter.widget-view+json": {
       "model_id": "836d016fd94b49b79de0367153afe599",
       "version_major": 2,
       "version_minor": 0
      },
      "text/plain": [
       "Figure(fig_margin={'top': 60, 'bottom': 60, 'left': 60, 'right': 60}, layout=Layout(height='700px', min_width=…"
      ]
     },
     "metadata": {},
     "output_type": "display_data"
    }
   ],
   "source": [
    "color_data = [1,2,3,4]\n",
    "\n",
    "tooltip = bqplot.Tooltip(fields = ['media','label'])\n",
    "\n",
    "graph = bqplot.Graph(node_data = node_data, link_data = link_data, tooltip = tooltip, )\n",
    "fig = bqplot.Figure(marks = [graph])\n",
    "fig.layout.height = '700px'\n",
    "\n",
    "def display_data(obj,element):\n",
    "    print('Character ='+ element['data']['label']+'   Film = ' + element['data']['media'])\n",
    "\n",
    "graph.on_element_click(display_data)\n",
    "\n",
    "display(fig)"
   ]
  },
  {
   "cell_type": "markdown",
   "metadata": {},
   "source": [
    "## Done in collaboration with\n",
    "### Amit Gandhi and Abhilasha Salunke"
   ]
  },
  {
   "cell_type": "code",
   "execution_count": null,
   "metadata": {},
   "outputs": [],
   "source": []
  }
 ],
 "metadata": {
  "kernelspec": {
   "display_name": "Environment (conda_is590dv-default)",
   "language": "python",
   "name": "conda_is590dv-default"
  },
  "language_info": {
   "codemirror_mode": {
    "name": "ipython",
    "version": 3
   },
   "file_extension": ".py",
   "mimetype": "text/x-python",
   "name": "python",
   "nbconvert_exporter": "python",
   "pygments_lexer": "ipython3",
   "version": "3.6.6"
  }
 },
 "nbformat": 4,
 "nbformat_minor": 2
}
